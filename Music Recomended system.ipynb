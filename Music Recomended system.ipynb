{
 "cells": [
  {
   "cell_type": "code",
   "execution_count": 1,
   "id": "49768e02-be14-4a48-9cbf-caa5c42a5643",
   "metadata": {},
   "outputs": [],
   "source": [
    "import numpy as np\n",
    "import pandas as pd\n",
    "import warnings\n",
    "warnings.filterwarnings('ignore')\n",
    "import seaborn as sns\n",
    "import matplotlib.pyplot as plt\n",
    "%matplotlib inline\n",
    "import nltk\n"
   ]
  },
  {
   "cell_type": "code",
   "execution_count": 2,
   "id": "a36e5776-c112-4df3-9e4d-ad0b8d200363",
   "metadata": {},
   "outputs": [],
   "source": [
    "# "
   ]
  },
  {
   "cell_type": "code",
   "execution_count": 3,
   "id": "91f00ed1-64ee-4fc5-91de-a09b4d5ae298",
   "metadata": {},
   "outputs": [],
   "source": [
    "df = pd.read_csv('songdata.csv')"
   ]
  },
  {
   "cell_type": "code",
   "execution_count": 4,
   "id": "ebbc3afd-59e6-4399-b5e4-ff4a838b662b",
   "metadata": {},
   "outputs": [
    {
     "data": {
      "text/html": [
       "<div>\n",
       "<style scoped>\n",
       "    .dataframe tbody tr th:only-of-type {\n",
       "        vertical-align: middle;\n",
       "    }\n",
       "\n",
       "    .dataframe tbody tr th {\n",
       "        vertical-align: top;\n",
       "    }\n",
       "\n",
       "    .dataframe thead th {\n",
       "        text-align: right;\n",
       "    }\n",
       "</style>\n",
       "<table border=\"1\" class=\"dataframe\">\n",
       "  <thead>\n",
       "    <tr style=\"text-align: right;\">\n",
       "      <th></th>\n",
       "      <th>artist</th>\n",
       "      <th>song</th>\n",
       "      <th>link</th>\n",
       "      <th>text</th>\n",
       "    </tr>\n",
       "  </thead>\n",
       "  <tbody>\n",
       "    <tr>\n",
       "      <th>0</th>\n",
       "      <td>ABBA</td>\n",
       "      <td>Ahe's My Kind Of Girl</td>\n",
       "      <td>/a/abba/ahes+my+kind+of+girl_20598417.html</td>\n",
       "      <td>Look at her face, it's a wonderful face  \\nAnd...</td>\n",
       "    </tr>\n",
       "    <tr>\n",
       "      <th>1</th>\n",
       "      <td>ABBA</td>\n",
       "      <td>Andante, Andante</td>\n",
       "      <td>/a/abba/andante+andante_20002708.html</td>\n",
       "      <td>Take it easy with me, please  \\nTouch me gentl...</td>\n",
       "    </tr>\n",
       "    <tr>\n",
       "      <th>2</th>\n",
       "      <td>ABBA</td>\n",
       "      <td>As Good As New</td>\n",
       "      <td>/a/abba/as+good+as+new_20003033.html</td>\n",
       "      <td>I'll never know why I had to go  \\nWhy I had t...</td>\n",
       "    </tr>\n",
       "  </tbody>\n",
       "</table>\n",
       "</div>"
      ],
      "text/plain": [
       "  artist                   song                                        link  \\\n",
       "0   ABBA  Ahe's My Kind Of Girl  /a/abba/ahes+my+kind+of+girl_20598417.html   \n",
       "1   ABBA       Andante, Andante       /a/abba/andante+andante_20002708.html   \n",
       "2   ABBA         As Good As New        /a/abba/as+good+as+new_20003033.html   \n",
       "\n",
       "                                                text  \n",
       "0  Look at her face, it's a wonderful face  \\nAnd...  \n",
       "1  Take it easy with me, please  \\nTouch me gentl...  \n",
       "2  I'll never know why I had to go  \\nWhy I had t...  "
      ]
     },
     "execution_count": 4,
     "metadata": {},
     "output_type": "execute_result"
    }
   ],
   "source": [
    "df.head(3)"
   ]
  },
  {
   "cell_type": "code",
   "execution_count": 5,
   "id": "888dfe82-4a1d-4014-8d81-44915c223ee8",
   "metadata": {},
   "outputs": [
    {
     "data": {
      "text/plain": [
       "(57650, 4)"
      ]
     },
     "execution_count": 5,
     "metadata": {},
     "output_type": "execute_result"
    }
   ],
   "source": [
    "df.shape"
   ]
  },
  {
   "cell_type": "code",
   "execution_count": 6,
   "id": "6aa35b57-9af0-46a1-8985-4fde8a4df11f",
   "metadata": {},
   "outputs": [],
   "source": [
    "df = df.sample(n=5000).drop('link',axis=1).reset_index(drop=True)"
   ]
  },
  {
   "cell_type": "code",
   "execution_count": 7,
   "id": "f5f5cf0c-8ef5-482f-85ad-12ac11aee78d",
   "metadata": {},
   "outputs": [
    {
     "data": {
      "text/html": [
       "<div>\n",
       "<style scoped>\n",
       "    .dataframe tbody tr th:only-of-type {\n",
       "        vertical-align: middle;\n",
       "    }\n",
       "\n",
       "    .dataframe tbody tr th {\n",
       "        vertical-align: top;\n",
       "    }\n",
       "\n",
       "    .dataframe thead th {\n",
       "        text-align: right;\n",
       "    }\n",
       "</style>\n",
       "<table border=\"1\" class=\"dataframe\">\n",
       "  <thead>\n",
       "    <tr style=\"text-align: right;\">\n",
       "      <th></th>\n",
       "      <th>artist</th>\n",
       "      <th>song</th>\n",
       "      <th>text</th>\n",
       "    </tr>\n",
       "  </thead>\n",
       "  <tbody>\n",
       "    <tr>\n",
       "      <th>0</th>\n",
       "      <td>Marillion</td>\n",
       "      <td>Sounds That Can't Be Made</td>\n",
       "      <td>Sounds that can't be made  \\n  \\nOne day'll pl...</td>\n",
       "    </tr>\n",
       "    <tr>\n",
       "      <th>1</th>\n",
       "      <td>Extreme</td>\n",
       "      <td>Tell Me Something I Don't Know</td>\n",
       "      <td>Sun going up,  \\nMaking its rounds  \\nIt keeps...</td>\n",
       "    </tr>\n",
       "    <tr>\n",
       "      <th>2</th>\n",
       "      <td>Bryan White</td>\n",
       "      <td>Everywhere I Turn</td>\n",
       "      <td>On the front page of the paper  \\nSpeeding win...</td>\n",
       "    </tr>\n",
       "  </tbody>\n",
       "</table>\n",
       "</div>"
      ],
      "text/plain": [
       "        artist                            song  \\\n",
       "0    Marillion       Sounds That Can't Be Made   \n",
       "1      Extreme  Tell Me Something I Don't Know   \n",
       "2  Bryan White               Everywhere I Turn   \n",
       "\n",
       "                                                text  \n",
       "0  Sounds that can't be made  \\n  \\nOne day'll pl...  \n",
       "1  Sun going up,  \\nMaking its rounds  \\nIt keeps...  \n",
       "2  On the front page of the paper  \\nSpeeding win...  "
      ]
     },
     "execution_count": 7,
     "metadata": {},
     "output_type": "execute_result"
    }
   ],
   "source": [
    "df.head(3)"
   ]
  },
  {
   "cell_type": "code",
   "execution_count": 8,
   "id": "246b6ad0-49d3-4fdc-95e2-38cf4dbfa89a",
   "metadata": {},
   "outputs": [
    {
     "data": {
      "text/plain": [
       "0            Marillion\n",
       "1              Extreme\n",
       "2          Bryan White\n",
       "3        Guns N' Roses\n",
       "4       Tragically Hip\n",
       "             ...      \n",
       "4995             Sting\n",
       "4996      Taylor Swift\n",
       "4997            Primus\n",
       "4998      Lana Del Rey\n",
       "4999            Prince\n",
       "Name: artist, Length: 5000, dtype: object"
      ]
     },
     "execution_count": 8,
     "metadata": {},
     "output_type": "execute_result"
    }
   ],
   "source": [
    "df['artist']"
   ]
  },
  {
   "cell_type": "code",
   "execution_count": 9,
   "id": "5897bd73-9b62-45f3-894f-48a10842f462",
   "metadata": {},
   "outputs": [],
   "source": [
    "df['text'] = df['text'].str.lower().replace(r'[^a-zA-Z0-9]','').replace(r'\\n',' ',regex=True)"
   ]
  },
  {
   "cell_type": "code",
   "execution_count": 10,
   "id": "aff95c34-ffe6-4e5d-b088-cea435a61070",
   "metadata": {},
   "outputs": [],
   "source": [
    "import nltk\n",
    "from nltk.stem.porter import PorterStemmer\n",
    "ps = PorterStemmer()\n",
    "\n",
    "steamin =[]\n",
    "def stem(content):\n",
    "    token = nltk.word_tokenize(content)\n",
    "    steamin = [ps.stem(word) for word in token]\n",
    "    return \" \".join(steamin)"
   ]
  },
  {
   "cell_type": "code",
   "execution_count": 11,
   "id": "2e46549a-efc1-4358-938d-0ffffbd7cd8e",
   "metadata": {},
   "outputs": [],
   "source": [
    "df['text'] = df['text'].apply(lambda x: stem(x))"
   ]
  },
  {
   "cell_type": "code",
   "execution_count": 12,
   "id": "3b65cdef-b7dc-4ca6-be61-90d9fd21eb0e",
   "metadata": {},
   "outputs": [
    {
     "data": {
      "text/plain": [
       "0       sound that ca n't be made one day 'll play you...\n",
       "1       sun go up , make it round it keep on move , pa...\n",
       "2       on the front page of the paper speed window of...\n",
       "3       she 's got a smile that it seem to me remind m...\n",
       "4       you do the combat math , i 'm the war artist y...\n",
       "                              ...                        \n",
       "4995    in europ and america there 's a grow feel of h...\n",
       "4996    i still rememb the look on your face lit throu...\n",
       "4997    mrs. blaileen - she wa a sixth grade teacher a...\n",
       "4998    the other woman find time to manicur her nail ...\n",
       "4999    thi is it it 's time for you to go to the wire...\n",
       "Name: text, Length: 5000, dtype: object"
      ]
     },
     "execution_count": 12,
     "metadata": {},
     "output_type": "execute_result"
    }
   ],
   "source": [
    "df['text']"
   ]
  },
  {
   "cell_type": "code",
   "execution_count": 13,
   "id": "b4829320-3942-4260-8a33-cb7591ac5d85",
   "metadata": {},
   "outputs": [],
   "source": [
    "from sklearn.feature_extraction.text import TfidfVectorizer\n",
    "from sklearn.metrics.pairwise import cosine_similarity"
   ]
  },
  {
   "cell_type": "code",
   "execution_count": 14,
   "id": "681cd61f-81e3-4252-84cd-a7afe88cd851",
   "metadata": {},
   "outputs": [],
   "source": [
    "Tifid = TfidfVectorizer(stop_words='english')\n",
    "matrix = Tifid.fit_transform(df['text'])\n"
   ]
  },
  {
   "cell_type": "code",
   "execution_count": 25,
   "id": "31f2e75e-6c83-42af-afff-b029b9567b90",
   "metadata": {},
   "outputs": [],
   "source": [
    "similarity= cosine_similarity(matrix)"
   ]
  },
  {
   "cell_type": "code",
   "execution_count": 26,
   "id": "79a6a342-48ab-42f4-a31b-280a81067338",
   "metadata": {},
   "outputs": [
    {
     "data": {
      "text/plain": [
       "array([1.        , 0.02724371, 0.04612205, ..., 0.01223663, 0.01495313,\n",
       "       0.01114682])"
      ]
     },
     "execution_count": 26,
     "metadata": {},
     "output_type": "execute_result"
    }
   ],
   "source": [
    "similarity[0]"
   ]
  },
  {
   "cell_type": "code",
   "execution_count": 27,
   "id": "a9300730-1dc1-45ad-8bb7-9dc9b232056c",
   "metadata": {},
   "outputs": [],
   "source": [
    "distance = sorted(list(enumerate(similarity[0])),reverse=False,key=lambda x:x[1])"
   ]
  },
  {
   "cell_type": "code",
   "execution_count": 49,
   "id": "13b0ceb2-2477-49da-ad52-a1dc0e96fa15",
   "metadata": {},
   "outputs": [],
   "source": [
    "def recomended(song):\n",
    "\n",
    "    df[df['song']==song].index[0]\n",
    "    distance = sorted(list(enumerate(simliratiy[0])),reverse=False,key=lambda x:x[1])\n",
    "    songs = []\n",
    "    for i in distance[1:10]:\n",
    "        songs.append(df.iloc[i[0]].song)\n",
    "    return songs"
   ]
  },
  {
   "cell_type": "code",
   "execution_count": 53,
   "id": "b1f948c4-0d3d-42c5-8dc3-45ad7bf577af",
   "metadata": {},
   "outputs": [
    {
     "ename": "SyntaxError",
     "evalue": "unterminated string literal (detected at line 1) (3017295706.py, line 1)",
     "output_type": "error",
     "traceback": [
      "\u001b[1;36m  Cell \u001b[1;32mIn[53], line 1\u001b[1;36m\u001b[0m\n\u001b[1;33m    recommendation('Sounds That Can't Be Made')\u001b[0m\n\u001b[1;37m                                             ^\u001b[0m\n\u001b[1;31mSyntaxError\u001b[0m\u001b[1;31m:\u001b[0m unterminated string literal (detected at line 1)\n"
     ]
    }
   ],
   "source": [
    "recommendation('Sounds That Can't Be Made')"
   ]
  },
  {
   "cell_type": "code",
   "execution_count": 29,
   "id": "c0d84c03-b42f-4756-b72e-65316cc320bb",
   "metadata": {},
   "outputs": [],
   "source": [
    "import pickle\n",
    "pickle.dump(df,open('df.pkl','wb'))\n",
    "pickle.dump(similarity,open('similarity.pkl','wb'))"
   ]
  },
  {
   "cell_type": "code",
   "execution_count": null,
   "id": "7b712a13-87d2-404b-afaa-3f10d8bf2661",
   "metadata": {},
   "outputs": [],
   "source": []
  },
  {
   "cell_type": "code",
   "execution_count": null,
   "id": "c86da85d-8000-4351-b212-79b26a445461",
   "metadata": {},
   "outputs": [],
   "source": []
  }
 ],
 "metadata": {
  "kernelspec": {
   "display_name": "Python 3 (ipykernel)",
   "language": "python",
   "name": "python3"
  },
  "language_info": {
   "codemirror_mode": {
    "name": "ipython",
    "version": 3
   },
   "file_extension": ".py",
   "mimetype": "text/x-python",
   "name": "python",
   "nbconvert_exporter": "python",
   "pygments_lexer": "ipython3",
   "version": "3.11.7"
  }
 },
 "nbformat": 4,
 "nbformat_minor": 5
}
